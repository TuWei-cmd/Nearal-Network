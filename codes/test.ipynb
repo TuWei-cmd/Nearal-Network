{
 "cells": [
  {
   "source": [
    "import matplotlib.pyplot \n",
    "import numpy \n",
    "%matplotlib inline "
   ],
   "cell_type": "code",
   "metadata": {},
   "execution_count": 1,
   "outputs": []
  },
  {
   "cell_type": "code",
   "execution_count": 2,
   "metadata": {},
   "outputs": [],
   "source": [
    "datafile = open(\"MNIST/mnist_test.csv\", 'r')\n",
    "datalist = datafile.readline()\n",
    "datafile.close()"
   ]
  },
  {
   "cell_type": "code",
   "execution_count": 3,
   "metadata": {},
   "outputs": [
    {
     "output_type": "execute_result",
     "data": {
      "text/plain": [
       "<matplotlib.image.AxesImage at 0x23baa068130>"
      ]
     },
     "metadata": {},
     "execution_count": 3
    },
    {
     "output_type": "display_data",
     "data": {
      "text/plain": "<Figure size 432x288 with 1 Axes>",
      "image/svg+xml": "<?xml version=\"1.0\" encoding=\"utf-8\" standalone=\"no\"?>\r\n<!DOCTYPE svg PUBLIC \"-//W3C//DTD SVG 1.1//EN\"\r\n  \"http://www.w3.org/Graphics/SVG/1.1/DTD/svg11.dtd\">\r\n<!-- Created with matplotlib (https://matplotlib.org/) -->\r\n<svg height=\"248.518125pt\" version=\"1.1\" viewBox=\"0 0 251.565 248.518125\" width=\"251.565pt\" xmlns=\"http://www.w3.org/2000/svg\" xmlns:xlink=\"http://www.w3.org/1999/xlink\">\r\n <metadata>\r\n  <rdf:RDF xmlns:cc=\"http://creativecommons.org/ns#\" xmlns:dc=\"http://purl.org/dc/elements/1.1/\" xmlns:rdf=\"http://www.w3.org/1999/02/22-rdf-syntax-ns#\">\r\n   <cc:Work>\r\n    <dc:type rdf:resource=\"http://purl.org/dc/dcmitype/StillImage\"/>\r\n    <dc:date>2021-01-12T09:23:43.824534</dc:date>\r\n    <dc:format>image/svg+xml</dc:format>\r\n    <dc:creator>\r\n     <cc:Agent>\r\n      <dc:title>Matplotlib v3.3.3, https://matplotlib.org/</dc:title>\r\n     </cc:Agent>\r\n    </dc:creator>\r\n   </cc:Work>\r\n  </rdf:RDF>\r\n </metadata>\r\n <defs>\r\n  <style type=\"text/css\">*{stroke-linecap:butt;stroke-linejoin:round;}</style>\r\n </defs>\r\n <g id=\"figure_1\">\r\n  <g id=\"patch_1\">\r\n   <path d=\"M 0 248.518125 \r\nL 251.565 248.518125 \r\nL 251.565 0 \r\nL 0 0 \r\nz\r\n\" style=\"fill:none;\"/>\r\n  </g>\r\n  <g id=\"axes_1\">\r\n   <g id=\"patch_2\">\r\n    <path d=\"M 26.925 224.64 \r\nL 244.365 224.64 \r\nL 244.365 7.2 \r\nL 26.925 7.2 \r\nz\r\n\" style=\"fill:#ffffff;\"/>\r\n   </g>\r\n   <g clip-path=\"url(#p421ab64f1f)\">\r\n    <image height=\"28\" id=\"image4c362a52d3\" style=\"image-rendering:crisp-edges;image-rendering:pixelated\" transform=\"matrix(7.785714 0 0 7.785714 26.925 6.64)\" width=\"28\" xlink:href=\"data:image/png;base64,\r\niVBORw0KGgoAAAANSUhEUgAAABwAAAAcCAYAAAByDd+UAAAByklEQVR4nO2VvYrqUBSF9xYNWgUViyDEJBb+PEGwEHwCKysLX0Cw9g3sxMrWxrQWPoJNCkVsLOIP2glBEJEgiq7bCRcmjjHOVLPgFDlnrfOxirPDAEC/qMBvwv6Af8C3FHQ7ME2TOp0OJZNJikQiVKvVKBaLUSwW8wVkt3eYyWRosVj8tyeKIum6/vRCRVGo2WySLMtfG+Ci+XwOwzAwm81gGAYajQYURQEzQ9M0MPNjhUIhyLL8+G61Wm7XwrXhVzqfz7TZbEhVVVqv1499QRBIkiRSVZVs26bBYEDlctlbQ68yTROBQAC6rsNxHFffR4Cn0wmSJIGIYJrmU+9HnkWv16PdbkfxeJxSqdRzs992y+USgiCAmWFZ1rd+3w2HwyFdr1eqVCqkadr3AT/tLpcLisUiwuEwVqvVSxlfwG63C2ZGtVp9OfM2cDqdIhgMIhqNvtzubaDjOMhms2Bm1Ot1T1nPwNvthlKpBGZGPp/Hfr//WaBt24+ZOZlMvMa9AQ+HA9LpNJgZ/X4f9/v9Z4HtdvvRbrvdeoZ5AlqWBVEUfQNfnjSj0YiOxyMREeVyOYpEIm9NJs+jrVAo0Hg8pkQi8RbQ0w/4E/oHu7Rz0WHaEBgAAAAASUVORK5CYII=\"/>\r\n   </g>\r\n   <g id=\"matplotlib.axis_1\">\r\n    <g id=\"xtick_1\">\r\n     <g id=\"line2d_1\">\r\n      <defs>\r\n       <path d=\"M 0 0 \r\nL 0 3.5 \r\n\" id=\"ma5d3228365\" style=\"stroke:#000000;stroke-width:0.8;\"/>\r\n      </defs>\r\n      <g>\r\n       <use style=\"stroke:#000000;stroke-width:0.8;\" x=\"30.807857\" xlink:href=\"#ma5d3228365\" y=\"224.64\"/>\r\n      </g>\r\n     </g>\r\n     <g id=\"text_1\">\r\n      <!-- 0 -->\r\n      <g transform=\"translate(27.626607 239.238437)scale(0.1 -0.1)\">\r\n       <defs>\r\n        <path d=\"M 31.78125 66.40625 \r\nQ 24.171875 66.40625 20.328125 58.90625 \r\nQ 16.5 51.421875 16.5 36.375 \r\nQ 16.5 21.390625 20.328125 13.890625 \r\nQ 24.171875 6.390625 31.78125 6.390625 \r\nQ 39.453125 6.390625 43.28125 13.890625 \r\nQ 47.125 21.390625 47.125 36.375 \r\nQ 47.125 51.421875 43.28125 58.90625 \r\nQ 39.453125 66.40625 31.78125 66.40625 \r\nz\r\nM 31.78125 74.21875 \r\nQ 44.046875 74.21875 50.515625 64.515625 \r\nQ 56.984375 54.828125 56.984375 36.375 \r\nQ 56.984375 17.96875 50.515625 8.265625 \r\nQ 44.046875 -1.421875 31.78125 -1.421875 \r\nQ 19.53125 -1.421875 13.0625 8.265625 \r\nQ 6.59375 17.96875 6.59375 36.375 \r\nQ 6.59375 54.828125 13.0625 64.515625 \r\nQ 19.53125 74.21875 31.78125 74.21875 \r\nz\r\n\" id=\"DejaVuSans-48\"/>\r\n       </defs>\r\n       <use xlink:href=\"#DejaVuSans-48\"/>\r\n      </g>\r\n     </g>\r\n    </g>\r\n    <g id=\"xtick_2\">\r\n     <g id=\"line2d_2\">\r\n      <g>\r\n       <use style=\"stroke:#000000;stroke-width:0.8;\" x=\"69.636429\" xlink:href=\"#ma5d3228365\" y=\"224.64\"/>\r\n      </g>\r\n     </g>\r\n     <g id=\"text_2\">\r\n      <!-- 5 -->\r\n      <g transform=\"translate(66.455179 239.238437)scale(0.1 -0.1)\">\r\n       <defs>\r\n        <path d=\"M 10.796875 72.90625 \r\nL 49.515625 72.90625 \r\nL 49.515625 64.59375 \r\nL 19.828125 64.59375 \r\nL 19.828125 46.734375 \r\nQ 21.96875 47.46875 24.109375 47.828125 \r\nQ 26.265625 48.1875 28.421875 48.1875 \r\nQ 40.625 48.1875 47.75 41.5 \r\nQ 54.890625 34.8125 54.890625 23.390625 \r\nQ 54.890625 11.625 47.5625 5.09375 \r\nQ 40.234375 -1.421875 26.90625 -1.421875 \r\nQ 22.3125 -1.421875 17.546875 -0.640625 \r\nQ 12.796875 0.140625 7.71875 1.703125 \r\nL 7.71875 11.625 \r\nQ 12.109375 9.234375 16.796875 8.0625 \r\nQ 21.484375 6.890625 26.703125 6.890625 \r\nQ 35.15625 6.890625 40.078125 11.328125 \r\nQ 45.015625 15.765625 45.015625 23.390625 \r\nQ 45.015625 31 40.078125 35.4375 \r\nQ 35.15625 39.890625 26.703125 39.890625 \r\nQ 22.75 39.890625 18.8125 39.015625 \r\nQ 14.890625 38.140625 10.796875 36.28125 \r\nz\r\n\" id=\"DejaVuSans-53\"/>\r\n       </defs>\r\n       <use xlink:href=\"#DejaVuSans-53\"/>\r\n      </g>\r\n     </g>\r\n    </g>\r\n    <g id=\"xtick_3\">\r\n     <g id=\"line2d_3\">\r\n      <g>\r\n       <use style=\"stroke:#000000;stroke-width:0.8;\" x=\"108.465\" xlink:href=\"#ma5d3228365\" y=\"224.64\"/>\r\n      </g>\r\n     </g>\r\n     <g id=\"text_3\">\r\n      <!-- 10 -->\r\n      <g transform=\"translate(102.1025 239.238437)scale(0.1 -0.1)\">\r\n       <defs>\r\n        <path d=\"M 12.40625 8.296875 \r\nL 28.515625 8.296875 \r\nL 28.515625 63.921875 \r\nL 10.984375 60.40625 \r\nL 10.984375 69.390625 \r\nL 28.421875 72.90625 \r\nL 38.28125 72.90625 \r\nL 38.28125 8.296875 \r\nL 54.390625 8.296875 \r\nL 54.390625 0 \r\nL 12.40625 0 \r\nz\r\n\" id=\"DejaVuSans-49\"/>\r\n       </defs>\r\n       <use xlink:href=\"#DejaVuSans-49\"/>\r\n       <use x=\"63.623047\" xlink:href=\"#DejaVuSans-48\"/>\r\n      </g>\r\n     </g>\r\n    </g>\r\n    <g id=\"xtick_4\">\r\n     <g id=\"line2d_4\">\r\n      <g>\r\n       <use style=\"stroke:#000000;stroke-width:0.8;\" x=\"147.293571\" xlink:href=\"#ma5d3228365\" y=\"224.64\"/>\r\n      </g>\r\n     </g>\r\n     <g id=\"text_4\">\r\n      <!-- 15 -->\r\n      <g transform=\"translate(140.931071 239.238437)scale(0.1 -0.1)\">\r\n       <use xlink:href=\"#DejaVuSans-49\"/>\r\n       <use x=\"63.623047\" xlink:href=\"#DejaVuSans-53\"/>\r\n      </g>\r\n     </g>\r\n    </g>\r\n    <g id=\"xtick_5\">\r\n     <g id=\"line2d_5\">\r\n      <g>\r\n       <use style=\"stroke:#000000;stroke-width:0.8;\" x=\"186.122143\" xlink:href=\"#ma5d3228365\" y=\"224.64\"/>\r\n      </g>\r\n     </g>\r\n     <g id=\"text_5\">\r\n      <!-- 20 -->\r\n      <g transform=\"translate(179.759643 239.238437)scale(0.1 -0.1)\">\r\n       <defs>\r\n        <path d=\"M 19.1875 8.296875 \r\nL 53.609375 8.296875 \r\nL 53.609375 0 \r\nL 7.328125 0 \r\nL 7.328125 8.296875 \r\nQ 12.9375 14.109375 22.625 23.890625 \r\nQ 32.328125 33.6875 34.8125 36.53125 \r\nQ 39.546875 41.84375 41.421875 45.53125 \r\nQ 43.3125 49.21875 43.3125 52.78125 \r\nQ 43.3125 58.59375 39.234375 62.25 \r\nQ 35.15625 65.921875 28.609375 65.921875 \r\nQ 23.96875 65.921875 18.8125 64.3125 \r\nQ 13.671875 62.703125 7.8125 59.421875 \r\nL 7.8125 69.390625 \r\nQ 13.765625 71.78125 18.9375 73 \r\nQ 24.125 74.21875 28.421875 74.21875 \r\nQ 39.75 74.21875 46.484375 68.546875 \r\nQ 53.21875 62.890625 53.21875 53.421875 \r\nQ 53.21875 48.921875 51.53125 44.890625 \r\nQ 49.859375 40.875 45.40625 35.40625 \r\nQ 44.1875 33.984375 37.640625 27.21875 \r\nQ 31.109375 20.453125 19.1875 8.296875 \r\nz\r\n\" id=\"DejaVuSans-50\"/>\r\n       </defs>\r\n       <use xlink:href=\"#DejaVuSans-50\"/>\r\n       <use x=\"63.623047\" xlink:href=\"#DejaVuSans-48\"/>\r\n      </g>\r\n     </g>\r\n    </g>\r\n    <g id=\"xtick_6\">\r\n     <g id=\"line2d_6\">\r\n      <g>\r\n       <use style=\"stroke:#000000;stroke-width:0.8;\" x=\"224.950714\" xlink:href=\"#ma5d3228365\" y=\"224.64\"/>\r\n      </g>\r\n     </g>\r\n     <g id=\"text_6\">\r\n      <!-- 25 -->\r\n      <g transform=\"translate(218.588214 239.238437)scale(0.1 -0.1)\">\r\n       <use xlink:href=\"#DejaVuSans-50\"/>\r\n       <use x=\"63.623047\" xlink:href=\"#DejaVuSans-53\"/>\r\n      </g>\r\n     </g>\r\n    </g>\r\n   </g>\r\n   <g id=\"matplotlib.axis_2\">\r\n    <g id=\"ytick_1\">\r\n     <g id=\"line2d_7\">\r\n      <defs>\r\n       <path d=\"M 0 0 \r\nL -3.5 0 \r\n\" id=\"m446fba1ff0\" style=\"stroke:#000000;stroke-width:0.8;\"/>\r\n      </defs>\r\n      <g>\r\n       <use style=\"stroke:#000000;stroke-width:0.8;\" x=\"26.925\" xlink:href=\"#m446fba1ff0\" y=\"11.082857\"/>\r\n      </g>\r\n     </g>\r\n     <g id=\"text_7\">\r\n      <!-- 0 -->\r\n      <g transform=\"translate(13.5625 14.882076)scale(0.1 -0.1)\">\r\n       <use xlink:href=\"#DejaVuSans-48\"/>\r\n      </g>\r\n     </g>\r\n    </g>\r\n    <g id=\"ytick_2\">\r\n     <g id=\"line2d_8\">\r\n      <g>\r\n       <use style=\"stroke:#000000;stroke-width:0.8;\" x=\"26.925\" xlink:href=\"#m446fba1ff0\" y=\"49.911429\"/>\r\n      </g>\r\n     </g>\r\n     <g id=\"text_8\">\r\n      <!-- 5 -->\r\n      <g transform=\"translate(13.5625 53.710647)scale(0.1 -0.1)\">\r\n       <use xlink:href=\"#DejaVuSans-53\"/>\r\n      </g>\r\n     </g>\r\n    </g>\r\n    <g id=\"ytick_3\">\r\n     <g id=\"line2d_9\">\r\n      <g>\r\n       <use style=\"stroke:#000000;stroke-width:0.8;\" x=\"26.925\" xlink:href=\"#m446fba1ff0\" y=\"88.74\"/>\r\n      </g>\r\n     </g>\r\n     <g id=\"text_9\">\r\n      <!-- 10 -->\r\n      <g transform=\"translate(7.2 92.539219)scale(0.1 -0.1)\">\r\n       <use xlink:href=\"#DejaVuSans-49\"/>\r\n       <use x=\"63.623047\" xlink:href=\"#DejaVuSans-48\"/>\r\n      </g>\r\n     </g>\r\n    </g>\r\n    <g id=\"ytick_4\">\r\n     <g id=\"line2d_10\">\r\n      <g>\r\n       <use style=\"stroke:#000000;stroke-width:0.8;\" x=\"26.925\" xlink:href=\"#m446fba1ff0\" y=\"127.568571\"/>\r\n      </g>\r\n     </g>\r\n     <g id=\"text_10\">\r\n      <!-- 15 -->\r\n      <g transform=\"translate(7.2 131.36779)scale(0.1 -0.1)\">\r\n       <use xlink:href=\"#DejaVuSans-49\"/>\r\n       <use x=\"63.623047\" xlink:href=\"#DejaVuSans-53\"/>\r\n      </g>\r\n     </g>\r\n    </g>\r\n    <g id=\"ytick_5\">\r\n     <g id=\"line2d_11\">\r\n      <g>\r\n       <use style=\"stroke:#000000;stroke-width:0.8;\" x=\"26.925\" xlink:href=\"#m446fba1ff0\" y=\"166.397143\"/>\r\n      </g>\r\n     </g>\r\n     <g id=\"text_11\">\r\n      <!-- 20 -->\r\n      <g transform=\"translate(7.2 170.196362)scale(0.1 -0.1)\">\r\n       <use xlink:href=\"#DejaVuSans-50\"/>\r\n       <use x=\"63.623047\" xlink:href=\"#DejaVuSans-48\"/>\r\n      </g>\r\n     </g>\r\n    </g>\r\n    <g id=\"ytick_6\">\r\n     <g id=\"line2d_12\">\r\n      <g>\r\n       <use style=\"stroke:#000000;stroke-width:0.8;\" x=\"26.925\" xlink:href=\"#m446fba1ff0\" y=\"205.225714\"/>\r\n      </g>\r\n     </g>\r\n     <g id=\"text_12\">\r\n      <!-- 25 -->\r\n      <g transform=\"translate(7.2 209.024933)scale(0.1 -0.1)\">\r\n       <use xlink:href=\"#DejaVuSans-50\"/>\r\n       <use x=\"63.623047\" xlink:href=\"#DejaVuSans-53\"/>\r\n      </g>\r\n     </g>\r\n    </g>\r\n   </g>\r\n   <g id=\"patch_3\">\r\n    <path d=\"M 26.925 224.64 \r\nL 26.925 7.2 \r\n\" style=\"fill:none;stroke:#000000;stroke-linecap:square;stroke-linejoin:miter;stroke-width:0.8;\"/>\r\n   </g>\r\n   <g id=\"patch_4\">\r\n    <path d=\"M 244.365 224.64 \r\nL 244.365 7.2 \r\n\" style=\"fill:none;stroke:#000000;stroke-linecap:square;stroke-linejoin:miter;stroke-width:0.8;\"/>\r\n   </g>\r\n   <g id=\"patch_5\">\r\n    <path d=\"M 26.925 224.64 \r\nL 244.365 224.64 \r\n\" style=\"fill:none;stroke:#000000;stroke-linecap:square;stroke-linejoin:miter;stroke-width:0.8;\"/>\r\n   </g>\r\n   <g id=\"patch_6\">\r\n    <path d=\"M 26.925 7.2 \r\nL 244.365 7.2 \r\n\" style=\"fill:none;stroke:#000000;stroke-linecap:square;stroke-linejoin:miter;stroke-width:0.8;\"/>\r\n   </g>\r\n  </g>\r\n </g>\r\n <defs>\r\n  <clipPath id=\"p421ab64f1f\">\r\n   <rect height=\"217.44\" width=\"217.44\" x=\"26.925\" y=\"7.2\"/>\r\n  </clipPath>\r\n </defs>\r\n</svg>\r\n",
      "image/png": "[encoded data removed]"
     },
     "metadata": {
      "needs_background": "light"
     }
    }
   ],
   "source": [
    "all_values = datalist.split(',')\r\n",
    "image_values = numpy.asfarray(all_values[1:]).reshape((28,28))\r\n",
    "matplotlib.pyplot.imshow(image_values, cmap='Greys',interpolation=\"None\")"
   ]
  },
  {
   "cell_type": "code",
   "execution_count": 4,
   "metadata": {},
   "outputs": [
    {
     "output_type": "stream",
     "name": "stdout",
     "text": [
      "[0.01       0.01       0.01       0.01       0.01       0.01\n 0.01       0.01       0.01       0.01       0.01       0.01\n 0.01       0.01       0.01       0.01       0.01       0.01\n 0.01       0.01       0.01       0.01       0.01       0.01\n 0.01       0.01       0.01       0.01       0.01       0.01\n 0.01       0.01       0.01       0.01       0.01       0.01\n 0.01       0.01       0.01       0.01       0.01       0.01\n 0.01       0.01       0.01       0.01       0.01       0.01\n 0.01       0.01       0.01       0.01       0.01       0.01\n 0.01       0.01       0.01       0.01       0.01       0.01\n 0.01       0.01       0.01       0.01       0.01       0.01\n 0.01       0.01       0.01       0.01       0.01       0.01\n 0.01       0.01       0.01       0.01       0.01       0.01\n 0.01       0.01       0.01       0.01       0.01       0.01\n 0.01       0.01       0.01       0.01       0.01       0.01\n 0.01       0.01       0.01       0.01       0.01       0.01\n 0.01       0.01       0.01       0.01       0.01       0.01\n 0.01       0.01       0.01       0.01       0.01       0.01\n 0.01       0.01       0.01       0.01       0.01       0.01\n 0.01       0.01       0.01       0.01       0.01       0.01\n 0.01       0.01       0.01       0.01       0.01       0.01\n 0.01       0.01       0.01       0.01       0.01       0.01\n 0.01       0.01       0.01       0.01       0.01       0.01\n 0.01       0.01       0.01       0.01       0.01       0.01\n 0.01       0.01       0.01       0.01       0.01       0.01\n 0.01       0.01       0.01       0.01       0.01       0.01\n 0.01       0.01       0.01       0.01       0.01       0.01\n 0.01       0.01       0.01       0.01       0.01       0.01\n 0.01       0.01       0.01       0.01       0.01       0.01\n 0.01       0.01       0.01       0.01       0.01       0.01\n 0.01       0.01       0.01       0.01       0.01       0.01\n 0.01       0.01       0.01       0.01       0.01       0.01\n 0.01       0.01       0.01       0.01       0.01       0.01\n 0.01       0.01       0.01       0.01       0.33611765 0.72823529\n 0.62729412 0.59623529 0.24294118 0.14976471 0.01       0.01\n 0.01       0.01       0.01       0.01       0.01       0.01\n 0.01       0.01       0.01       0.01       0.01       0.01\n 0.01       0.01       0.01       0.01       0.01       0.01\n 0.01       0.01       0.87188235 0.99611765 0.99611765 0.99611765\n 0.99611765 0.94564706 0.77870588 0.77870588 0.77870588 0.77870588\n 0.77870588 0.77870588 0.77870588 0.77870588 0.67       0.21188235\n 0.01       0.01       0.01       0.01       0.01       0.01\n 0.01       0.01       0.01       0.01       0.01       0.01\n 0.27011765 0.45258824 0.28952941 0.45258824 0.64282353 0.89129412\n 0.99611765 0.88352941 0.99611765 0.99611765 0.99611765 0.98058824\n 0.89905882 0.99611765 0.99611765 0.55352941 0.01       0.01\n 0.01       0.01       0.01       0.01       0.01       0.01\n 0.01       0.01       0.01       0.01       0.01       0.01\n 0.01       0.01       0.01       0.076      0.26623529 0.06435294\n 0.27011765 0.27011765 0.27011765 0.23905882 0.09152941 0.92623529\n 0.99611765 0.42152941 0.01       0.01       0.01       0.01\n 0.01       0.01       0.01       0.01       0.01       0.01\n 0.01       0.01       0.01       0.01       0.01       0.01\n 0.01       0.01       0.01       0.01       0.01       0.01\n 0.01       0.01       0.33223529 0.99223529 0.82141176 0.07988235\n 0.01       0.01       0.01       0.01       0.01       0.01\n 0.01       0.01       0.01       0.01       0.01       0.01\n 0.01       0.01       0.01       0.01       0.01       0.01\n 0.01       0.01       0.01       0.01       0.01       0.09541176\n 0.91458824 1.         0.33223529 0.01       0.01       0.01\n 0.01       0.01       0.01       0.01       0.01       0.01\n 0.01       0.01       0.01       0.01       0.01       0.01\n 0.01       0.01       0.01       0.01       0.01       0.01\n 0.01       0.01       0.01       0.51082353 0.99611765 0.934\n 0.18082353 0.01       0.01       0.01       0.01       0.01\n 0.01       0.01       0.01       0.01       0.01       0.01\n 0.01       0.01       0.01       0.01       0.01       0.01\n 0.01       0.01       0.01       0.01       0.01       0.01\n 0.23905882 0.97670588 0.99611765 0.25070588 0.01       0.01\n 0.01       0.01       0.01       0.01       0.01       0.01\n 0.01       0.01       0.01       0.01       0.01       0.01\n 0.01       0.01       0.01       0.01       0.01       0.01\n 0.01       0.01       0.01       0.01       0.52635294 0.99611765\n 0.736      0.02941176 0.01       0.01       0.01       0.01\n 0.01       0.01       0.01       0.01       0.01       0.01\n 0.01       0.01       0.01       0.01       0.01       0.01\n 0.01       0.01       0.01       0.01       0.01       0.01\n 0.01       0.04494118 0.80588235 0.97282353 0.23517647 0.01\n 0.01       0.01       0.01       0.01       0.01       0.01\n 0.01       0.01       0.01       0.01       0.01       0.01\n 0.01       0.01       0.01       0.01       0.01       0.01\n 0.01       0.01       0.01       0.01       0.01       0.49917647\n 0.99611765 0.71658824 0.01       0.01       0.01       0.01\n 0.01       0.01       0.01       0.01       0.01       0.01\n 0.01       0.01       0.01       0.01       0.01       0.01\n 0.01       0.01       0.01       0.01       0.01       0.01\n 0.01       0.01       0.30117647 0.98447059 0.94176471 0.23129412\n 0.01       0.01       0.01       0.01       0.01       0.01\n 0.01       0.01       0.01       0.01       0.01       0.01\n 0.01       0.01       0.01       0.01       0.01       0.01\n 0.01       0.01       0.01       0.01       0.01       0.08376471\n 0.868      0.99611765 0.65447059 0.01       0.01       0.01\n 0.01       0.01       0.01       0.01       0.01       0.01\n 0.01       0.01       0.01       0.01       0.01       0.01\n 0.01       0.01       0.01       0.01       0.01       0.01\n 0.01       0.01       0.02164706 0.79811765 0.99611765 0.86023529\n 0.14588235 0.01       0.01       0.01       0.01       0.01\n 0.01       0.01       0.01       0.01       0.01       0.01\n 0.01       0.01       0.01       0.01       0.01       0.01\n 0.01       0.01       0.01       0.01       0.01       0.01\n 0.15752941 0.99611765 0.99611765 0.30894118 0.01       0.01\n 0.01       0.01       0.01       0.01       0.01       0.01\n 0.01       0.01       0.01       0.01       0.01       0.01\n 0.01       0.01       0.01       0.01       0.01       0.01\n 0.01       0.01       0.01       0.13035294 0.87964706 0.99611765\n 0.45647059 0.01388235 0.01       0.01       0.01       0.01\n 0.01       0.01       0.01       0.01       0.01       0.01\n 0.01       0.01       0.01       0.01       0.01       0.01\n 0.01       0.01       0.01       0.01       0.01       0.01\n 0.01       0.52635294 0.99611765 0.99611765 0.21188235 0.01\n 0.01       0.01       0.01       0.01       0.01       0.01\n 0.01       0.01       0.01       0.01       0.01       0.01\n 0.01       0.01       0.01       0.01       0.01       0.01\n 0.01       0.01       0.01       0.01       0.24682353 0.94952941\n 0.99611765 0.99611765 0.21188235 0.01       0.01       0.01\n 0.01       0.01       0.01       0.01       0.01       0.01\n 0.01       0.01       0.01       0.01       0.01       0.01\n 0.01       0.01       0.01       0.01       0.01       0.01\n 0.01       0.01       0.47976471 0.99611765 0.99611765 0.86023529\n 0.16529412 0.01       0.01       0.01       0.01       0.01\n 0.01       0.01       0.01       0.01       0.01       0.01\n 0.01       0.01       0.01       0.01       0.01       0.01\n 0.01       0.01       0.01       0.01       0.01       0.01\n 0.47976471 0.99611765 0.81364706 0.07988235 0.01       0.01\n 0.01       0.01       0.01       0.01       0.01       0.01\n 0.01       0.01       0.01       0.01       0.01       0.01\n 0.01       0.01       0.01       0.01       0.01       0.01\n 0.01       0.01       0.01       0.01       0.01       0.01\n 0.01       0.01       0.01       0.01       0.01       0.01\n 0.01       0.01       0.01       0.01       0.01       0.01\n 0.01       0.01       0.01       0.01      ]\n"
     ]
    }
   ],
   "source": [
    "scaled_input = (numpy.asfarray(all_values[1:])/255.0 *0.99)+0.01\n",
    "print(scaled_input)"
   ]
  },
  {
   "cell_type": "code",
   "execution_count": 5,
   "metadata": {},
   "outputs": [],
   "source": [
    "# nearal network class definition: init; train; query.\n",
    "class neuralNetwork:\n",
    "    def __init__(self, inputnodes, hiddennodes, outputnodes, learningrate):\n",
    "        # 含input-hidden-output的3层神经网络，学习率learningrate\n",
    "        self.inodes = inputnodes\n",
    "        self.hnodes = hiddennodes\n",
    "        self.onodes = outputnodes\n",
    "        \n",
    "        self.lr = learningrate \n",
    "        \n",
    "        # weight inside the arrays are w_i_j, where link is from node i to node j in the next layer. \n",
    "        '''# easy but popular method to Initialize：\n",
    "        self.wih = (numpy.random.rand(self.hnodes, self.inodes)-0.5)\n",
    "        self.who = (numpy.random.rand(self.onodes, self.hnodes)-0.5)\n",
    "        '''\n",
    "        #正态分布的方式实现初始权重：\n",
    "        self.wih = numpy.random.normal(0.0, pow(self.hnodes, -0.5), (self.hnodes, self.inodes))\n",
    "        self.who = numpy.random.normal(0.0, pow(self.onodes, -0.5), (self.onodes, self.hnodes))\n",
    "        \n",
    "        # activation function is the sigmoid function 激活函数\n",
    "        self.activation_function = lambda x: scipy.special.expit(x)\n",
    "        \n",
    "    \n",
    "    def train(self, inputs_list, targets_list):\n",
    "        # convert inputs list to 2d array \n",
    "        inputs = numpy.array(inputs_list, ndmin=2).T\n",
    "        targets = numpy.array(targets_list, ndmin=2).T\n",
    "        \n",
    "        # calculate signals into hidden layer\n",
    "        hidden_inputs = numpy.dot(self.wih, inputs)\n",
    "        #calculate the signals emerging from hidden layer\n",
    "        hidden_outputs = self.activation_function(hidden_inputs)\n",
    "        \n",
    "        # calculate signals into final output layer\n",
    "        final_inputs = numpy.dot(self.who, hidden_outputs)\n",
    "        #calculate the signals emering from final output layer\n",
    "        final_outputs = self.activation_function(final_inputs)\n",
    "        \n",
    "        # error = (target - actual)\n",
    "        output_errors = targets - final_outputs\n",
    "        # hidden layer error is the output_errors, split by weights, recombined at hidden nodes\n",
    "        hidden_errors = numpy.dot(self.who.T, output_errors)\n",
    "        \n",
    "        # update the weights for the links between the hidden and output layers\n",
    "        self.who += self.lr * numpy.dot((output_errors*final_outputs*(1.0-final_outputs)), numpy.transpose(hidden_outputs))\n",
    "        # update the weights for the links between the inputs and hidden layers\n",
    "        self.wih += self.lr * numpy.dot((hidden_errors*hidden_outputs*(1.0-hidden_outputs)), numpy.transpose(inputs))\n",
    "        \n",
    "    \n",
    "    def query(self, inputs_list):\n",
    "        # convert inputs list to 2d array \n",
    "        inputs = numpy.array(inputs_list, ndmin=2).T\n",
    "        \n",
    "        # calculate signals into hidden layer\n",
    "        hidden_inputs = numpy.dot(self.wih, inputs)\n",
    "        #calculate the signals emerging from hidden layer\n",
    "        hidden_outputs = self.activation_function(hidden_inputs)\n",
    "        \n",
    "        #calculate signals into final output layer\n",
    "        final_inputs = numpy.dot(self.who, hidden_outputs)\n",
    "        #c alculate the signals emering from final output layer\n",
    "        final_outputs = self.activation_function(final_inputs)\n",
    "        \n",
    "        return final_outputs\n",
    "    "
   ]
  },
  {
   "cell_type": "code",
   "execution_count": 6,
   "metadata": {},
   "outputs": [
    {
     "output_type": "execute_result",
     "data": {
      "text/plain": [
       "array([0.01, 0.01, 0.01, 0.01, 0.01, 0.01, 0.01, 0.99, 0.01, 0.01])"
      ]
     },
     "metadata": {},
     "execution_count": 6
    }
   ],
   "source": [
    "#output nodes is 10 (example)\n",
    "onodes = 10\n",
    "targets = numpy.zeros(onodes)+0.01\n",
    "targets[int(all_values[0])] = 0.99\n",
    "targets"
   ]
  },
  {
   "cell_type": "code",
   "execution_count": null,
   "metadata": {},
   "outputs": [],
   "source": []
  }
 ],
 "metadata": {
  "kernelspec": {
   "display_name": "Python 3",
   "language": "python",
   "name": "python3"
  },
  "language_info": {
   "codemirror_mode": {
    "name": "ipython",
    "version": 3
   },
   "file_extension": ".py",
   "mimetype": "text/x-python",
   "name": "python",
   "nbconvert_exporter": "python",
   "pygments_lexer": "ipython3",
   "version": "3.9.1-final"
  }
 },
 "nbformat": 4,
 "nbformat_minor": 4
}